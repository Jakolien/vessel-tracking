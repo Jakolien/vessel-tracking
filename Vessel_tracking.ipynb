{
 "cells": [
  {
   "cell_type": "code",
   "execution_count": 48,
   "metadata": {},
   "outputs": [],
   "source": [
    "#module import\n",
    "import urllib.request\n",
    "from bs4 import BeautifulSoup\n",
    "import re\n",
    "import pandas as pd\n",
    "from datetime import datetime\n",
    "import locale\n",
    "locale.setlocale(locale.LC_ALL, \"english_uk\") #as we need to deal with names of monthes later on.\n",
    "import os\n",
    "import csv\n",
    "import psycopg2"
   ]
  },
  {
   "cell_type": "code",
   "execution_count": 50,
   "metadata": {},
   "outputs": [],
   "source": [
    "# Assigning the IMO vessel identifiers to the IMOS variable as a list\n",
    "\n",
    "IMOS = [9545663 , 9424508, 9811139, 9660114, 8848288]\n"
   ]
  },
  {
   "cell_type": "code",
   "execution_count": 59,
   "metadata": {
    "scrolled": true
   },
   "outputs": [
    {
     "name": "stdout",
     "output_type": "stream",
     "text": [
      "strange table found\n",
      "strange table found\n",
      "strange table found\n",
      "strange table found\n",
      "strange table found\n",
      "strange table found\n",
      "strange table found\n",
      "strange table found\n",
      "strange table found\n"
     ]
    }
   ],
   "source": [
    "#Making use of BeautifulSoup to scrape data from vesselfinder\n",
    "\n",
    "hdr = {'User-Agent': 'Mozilla/5.0 (X11; Linux x86_64) AppleWebKit/537.11 (KHTML, like Gecko) Chrome/23.0.1271.64 Safari/537.11',\n",
    "       'Accept': 'text/html,application/xhtml+xml,application/xml;q=0.9,*/*;q=0.8',\n",
    "       'Accept-Charset': 'ISO-8859-1,utf-8;q=0.7,*;q=0.3',\n",
    "       'Accept-Encoding': 'none',\n",
    "       'Accept-Language': 'en-US,en;q=0.8',\n",
    "       'Connection': 'keep-alive'}\n",
    "items = []\n",
    "for IMO in IMOS:\n",
    "    url = r'https://www.vesselfinder.com/en/vessels/VOS-TRAVELLER-IMO-' + str(IMO)\n",
    "    req = urllib.request.Request(url, None, hdr)\n",
    "    with urllib.request.urlopen(req) as response:\n",
    "        the_page = response.read()\n",
    "    parsed_html = BeautifulSoup(the_page)\n",
    "    tables = parsed_html.findAll(\"table\")\n",
    "    for table in tables:\n",
    "        if table.findParent(\"table\") is None:\n",
    "            for row in table.findAll('tr'):\n",
    "                aux = row.findAll('td')\n",
    "                try:\n",
    "                    if aux[0].string == \"Coordinates\":\n",
    "                        coords = aux[1].string\n",
    "                    if aux[0].string == \"Vessel Name\":\n",
    "                        name = aux[1].string\n",
    "                    if aux[0].string == \"Last report\":\n",
    "                        time = datetime.strptime(aux[1].contents[1], ' %b %d, %Y %I:%M %Z')\n",
    "                except: \n",
    "                    print(\"strange table found\")\n",
    "    coordsSplit = coords.split(\"/\")\n",
    "    def dms2dd(degrees,direction):\n",
    "        dd = float(degrees) ;\n",
    "        if direction == 'S' or direction == 'W':\n",
    "            dd *= -1\n",
    "        return dd\n",
    "    def parse_dms(dms):\n",
    "        parts = re.split(' ', dms)\n",
    "        lat = dms2dd(parts[0], parts[1])\n",
    "        return lat\n",
    "    lat = parse_dms(coordsSplit[0])\n",
    "    lng = parse_dms(coordsSplit[1])\n",
    "\n",
    "    items.append((lat, lng, name, time))"
   ]
  },
  {
   "cell_type": "code",
   "execution_count": 60,
   "metadata": {},
   "outputs": [],
   "source": [
    "#Import the tuple into a PostgreSQL table \n",
    "\n",
    "import psycopg2\n",
    "conn = psycopg2.connect(\"host=localhost dbname=nsea user=postgres\")\n",
    "cur = conn.cursor()\n",
    "for d in items:\n",
    "    cur.execute(\"INSERT into vesseltracking(lat,lon,name,time ) VALUES (%s, %s, %s,%s)\", d)\n",
    "    cur.execute(\"UPDATE vesseltracking SET geom =(ST_SetSRID(ST_MakePoint(lon,lat),4326));\")\n",
    "    cur.execute(\"NOTIFY qgis, 'refresh qgis';\")\n",
    "    cur.execute(\"\"\"DELETE FROM\n",
    "    vesseltracking a\n",
    "        USING vesseltracking b\n",
    "WHERE\n",
    "    a.id < b.id\n",
    "    AND a.lat = b.lat\n",
    "    AND b.lon = b.lon;\"\"\")\n",
    "\n",
    "conn.commit()"
   ]
  },
  {
   "cell_type": "code",
   "execution_count": null,
   "metadata": {},
   "outputs": [],
   "source": []
  }
 ],
 "metadata": {
  "kernelspec": {
   "display_name": "nsea",
   "language": "python",
   "name": "nsea"
  },
  "language_info": {
   "codemirror_mode": {
    "name": "ipython",
    "version": 3
   },
   "file_extension": ".py",
   "mimetype": "text/x-python",
   "name": "python",
   "nbconvert_exporter": "python",
   "pygments_lexer": "ipython3",
   "version": "3.6.6"
  }
 },
 "nbformat": 4,
 "nbformat_minor": 2
}
